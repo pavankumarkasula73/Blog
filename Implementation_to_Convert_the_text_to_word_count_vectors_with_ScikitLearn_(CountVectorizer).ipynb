{
  "nbformat": 4,
  "nbformat_minor": 0,
  "metadata": {
    "colab": {
      "provenance": [],
      "authorship_tag": "ABX9TyMn6H9GUG906d6IkLwDCgZX",
      "include_colab_link": true
    },
    "kernelspec": {
      "name": "python3",
      "display_name": "Python 3"
    },
    "language_info": {
      "name": "python"
    }
  },
  "cells": [
    {
      "cell_type": "markdown",
      "metadata": {
        "id": "view-in-github",
        "colab_type": "text"
      },
      "source": [
        "<a href=\"https://colab.research.google.com/github/pavankumarkasula73/Deep-Learning-With-Natural-Language-Processing/blob/main/Implementation_to_Convert_the_text_to_word_count_vectors_with_ScikitLearn_(CountVectorizer).ipynb\" target=\"_parent\"><img src=\"https://colab.research.google.com/assets/colab-badge.svg\" alt=\"Open In Colab\"/></a>"
      ]
    },
    {
      "cell_type": "code",
      "execution_count": 17,
      "metadata": {
        "colab": {
          "base_uri": "https://localhost:8080/"
        },
        "id": "xDSmbZPfd8py",
        "outputId": "5dfa772a-3079-4466-b00b-827ba7fd3ec8"
      },
      "outputs": [
        {
          "output_type": "stream",
          "name": "stdout",
          "text": [
            "Requirement already satisfied: pandas in /usr/local/lib/python3.10/dist-packages (2.0.3)\n",
            "Requirement already satisfied: scikit-learn in /usr/local/lib/python3.10/dist-packages (1.2.2)\n",
            "Requirement already satisfied: nltk in /usr/local/lib/python3.10/dist-packages (3.8.1)\n",
            "Requirement already satisfied: python-dateutil>=2.8.2 in /usr/local/lib/python3.10/dist-packages (from pandas) (2.8.2)\n",
            "Requirement already satisfied: pytz>=2020.1 in /usr/local/lib/python3.10/dist-packages (from pandas) (2023.4)\n",
            "Requirement already satisfied: tzdata>=2022.1 in /usr/local/lib/python3.10/dist-packages (from pandas) (2024.1)\n",
            "Requirement already satisfied: numpy>=1.21.0 in /usr/local/lib/python3.10/dist-packages (from pandas) (1.25.2)\n",
            "Requirement already satisfied: scipy>=1.3.2 in /usr/local/lib/python3.10/dist-packages (from scikit-learn) (1.11.4)\n",
            "Requirement already satisfied: joblib>=1.1.1 in /usr/local/lib/python3.10/dist-packages (from scikit-learn) (1.4.2)\n",
            "Requirement already satisfied: threadpoolctl>=2.0.0 in /usr/local/lib/python3.10/dist-packages (from scikit-learn) (3.5.0)\n",
            "Requirement already satisfied: click in /usr/local/lib/python3.10/dist-packages (from nltk) (8.1.7)\n",
            "Requirement already satisfied: regex>=2021.8.3 in /usr/local/lib/python3.10/dist-packages (from nltk) (2024.5.15)\n",
            "Requirement already satisfied: tqdm in /usr/local/lib/python3.10/dist-packages (from nltk) (4.66.4)\n",
            "Requirement already satisfied: six>=1.5 in /usr/local/lib/python3.10/dist-packages (from python-dateutil>=2.8.2->pandas) (1.16.0)\n"
          ]
        }
      ],
      "source": [
        "pip install pandas scikit-learn nltk"
      ]
    },
    {
      "cell_type": "code",
      "source": [
        "import nltk\n",
        "nltk.download('punkt')"
      ],
      "metadata": {
        "colab": {
          "base_uri": "https://localhost:8080/"
        },
        "id": "U9Gf336imBHZ",
        "outputId": "5fbad67e-b7fa-4bee-e6eb-2c84731b6f63"
      },
      "execution_count": 18,
      "outputs": [
        {
          "output_type": "stream",
          "name": "stderr",
          "text": [
            "[nltk_data] Downloading package punkt to /root/nltk_data...\n",
            "[nltk_data]   Unzipping tokenizers/punkt.zip.\n"
          ]
        },
        {
          "output_type": "execute_result",
          "data": {
            "text/plain": [
              "True"
            ]
          },
          "metadata": {},
          "execution_count": 18
        }
      ]
    },
    {
      "cell_type": "code",
      "source": [
        "import pandas as pd\n",
        "from sklearn.feature_extraction.text import CountVectorizer\n",
        "from nltk.tokenize import sent_tokenize\n",
        "\n",
        "# Load the text file\n",
        "file_path = '/content/Dallas.txt'\n",
        "with open(file_path, 'r', encoding='utf-8') as file:\n",
        "    text = file.read()\n",
        "\n",
        "# Split text into sentences\n",
        "sentences = sent_tokenize(text)\n",
        "\n",
        "# Enumerate sentences\n",
        "enumerated_sentences = [f\"{i+1}. {sentence}\" for i, sentence in enumerate(sentences)]\n",
        "\n",
        "# Print the first few enumerated sentences to verify\n",
        "print(enumerated_sentences[:5])\n",
        "\n",
        "# Initialize the CountVectorizer\n",
        "vectorizer = CountVectorizer()\n",
        "\n",
        "# Fit and transform the enumerated sentences\n",
        "X = vectorizer.fit_transform(enumerated_sentences)\n",
        "\n",
        "# Convert the sparse matrix to a dense array\n",
        "X_array = X.toarray()\n",
        "\n",
        "# Get feature names\n",
        "feature_names = vectorizer.get_feature_names_out()\n",
        "\n",
        "# Create a DataFrame with the results\n",
        "df = pd.DataFrame(data=X_array, columns=feature_names)\n",
        "\n",
        "# Display the first few rows of the DataFrame\n",
        "print(df.head())\n",
        "\n",
        "# Optionally, save the DataFrame to a CSV file for further inspection\n",
        "df.to_csv('word_count_vectors.csv', index=False)"
      ],
      "metadata": {
        "colab": {
          "base_uri": "https://localhost:8080/"
        },
        "id": "8BpcUK6srpy4",
        "outputId": "a74a2e01-dc9a-4c82-d500-491d614f944b"
      },
      "execution_count": 20,
      "outputs": [
        {
          "output_type": "stream",
          "name": "stdout",
          "text": [
            "['1. Thank you.', '2. Thank you very much.', '3. Hello Dallas.', \"4. It's great to be with you tonight.\", '5. Thank you.']\n",
            "   00  000  10  100  1000  1001  1002  1003  1004  1005  ...  yard  yeah  \\\n",
            "0   0    0   0    0     0     0     0     0     0     0  ...     0     0   \n",
            "1   0    0   0    0     0     0     0     0     0     0  ...     0     0   \n",
            "2   0    0   0    0     0     0     0     0     0     0  ...     0     0   \n",
            "3   0    0   0    0     0     0     0     0     0     0  ...     0     0   \n",
            "4   0    0   0    0     0     0     0     0     0     0  ...     0     0   \n",
            "\n",
            "   year  years  yes  yet  you  your  yourself  zero  \n",
            "0     0      0    0    0    1     0         0     0  \n",
            "1     0      0    0    0    1     0         0     0  \n",
            "2     0      0    0    0    0     0         0     0  \n",
            "3     0      0    0    0    1     0         0     0  \n",
            "4     0      0    0    0    1     0         0     0  \n",
            "\n",
            "[5 rows x 2689 columns]\n"
          ]
        }
      ]
    }
  ]
}