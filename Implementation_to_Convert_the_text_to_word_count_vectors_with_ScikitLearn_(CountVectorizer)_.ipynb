{
  "nbformat": 4,
  "nbformat_minor": 0,
  "metadata": {
    "colab": {
      "provenance": [],
      "authorship_tag": "ABX9TyOPNb66/gb5XLcX8B0IQVg6",
      "include_colab_link": true
    },
    "kernelspec": {
      "name": "python3",
      "display_name": "Python 3"
    },
    "language_info": {
      "name": "python"
    }
  },
  "cells": [
    {
      "cell_type": "markdown",
      "metadata": {
        "id": "view-in-github",
        "colab_type": "text"
      },
      "source": [
        "<a href=\"https://colab.research.google.com/github/pavankumarkasula73/Deep-Learning-With-Natural-Language-Processing/blob/main/Implementation_to_Convert_the_text_to_word_count_vectors_with_ScikitLearn_(CountVectorizer)_.ipynb\" target=\"_parent\"><img src=\"https://colab.research.google.com/assets/colab-badge.svg\" alt=\"Open In Colab\"/></a>"
      ]
    },
    {
      "cell_type": "markdown",
      "source": [
        "# **Install Scikit-learn**"
      ],
      "metadata": {
        "id": "hvS3x41yD-Fk"
      }
    },
    {
      "cell_type": "code",
      "execution_count": 1,
      "metadata": {
        "colab": {
          "base_uri": "https://localhost:8080/"
        },
        "id": "U_SJpg1nD1lg",
        "outputId": "e3380c61-5c97-4bac-e7c7-39d333f00824"
      },
      "outputs": [
        {
          "output_type": "stream",
          "name": "stdout",
          "text": [
            "Requirement already satisfied: scikit-learn in /usr/local/lib/python3.10/dist-packages (1.2.2)\n",
            "Requirement already satisfied: numpy>=1.17.3 in /usr/local/lib/python3.10/dist-packages (from scikit-learn) (1.25.2)\n",
            "Requirement already satisfied: scipy>=1.3.2 in /usr/local/lib/python3.10/dist-packages (from scikit-learn) (1.11.4)\n",
            "Requirement already satisfied: joblib>=1.1.1 in /usr/local/lib/python3.10/dist-packages (from scikit-learn) (1.4.2)\n",
            "Requirement already satisfied: threadpoolctl>=2.0.0 in /usr/local/lib/python3.10/dist-packages (from scikit-learn) (3.5.0)\n"
          ]
        }
      ],
      "source": [
        "pip install scikit-learn"
      ]
    },
    {
      "cell_type": "markdown",
      "source": [
        "# **Import Libraries**"
      ],
      "metadata": {
        "id": "g7ho4przD7qM"
      }
    },
    {
      "cell_type": "code",
      "source": [
        "from sklearn.feature_extraction.text import CountVectorizer"
      ],
      "metadata": {
        "id": "8kXfmsH0ELQI"
      },
      "execution_count": 2,
      "outputs": []
    },
    {
      "cell_type": "markdown",
      "source": [
        "# **Prepare Your Data**"
      ],
      "metadata": {
        "id": "BGL1fh3rEP_6"
      }
    },
    {
      "cell_type": "code",
      "source": [
        "corpus = [\n",
        "    'Iam kasulaPavanKumar.',\n",
        "    'Pursing bachelors at PU.',\n",
        "    'And this is my 4th year.',\n",
        "    'this is KasulaPavanKumar',\n",
        "]\n"
      ],
      "metadata": {
        "id": "JYMnnBFKET_E"
      },
      "execution_count": 4,
      "outputs": []
    },
    {
      "cell_type": "markdown",
      "source": [
        "# **Create the CountVectorizer**"
      ],
      "metadata": {
        "id": "pdWwQigOFENf"
      }
    },
    {
      "cell_type": "code",
      "source": [
        "vectorizer = CountVectorizer()"
      ],
      "metadata": {
        "id": "EI7GAAG7FGBC"
      },
      "execution_count": 5,
      "outputs": []
    },
    {
      "cell_type": "markdown",
      "source": [
        "# **Fit and Transform the Data**"
      ],
      "metadata": {
        "id": "P7vOpm55FI_t"
      }
    },
    {
      "cell_type": "code",
      "source": [
        "X = vectorizer.fit_transform(corpus)"
      ],
      "metadata": {
        "id": "iP72hehyFMYG"
      },
      "execution_count": 6,
      "outputs": []
    },
    {
      "cell_type": "markdown",
      "source": [
        "# **Convert to Array**"
      ],
      "metadata": {
        "id": "6AY2ICZJFQdi"
      }
    },
    {
      "cell_type": "code",
      "source": [
        "X_array = X.toarray()"
      ],
      "metadata": {
        "id": "d2FaYDnmFUwv"
      },
      "execution_count": 7,
      "outputs": []
    },
    {
      "cell_type": "markdown",
      "source": [
        "# **View the Feature Names**"
      ],
      "metadata": {
        "id": "UQgebnajFaPH"
      }
    },
    {
      "cell_type": "code",
      "source": [
        "feature_names = vectorizer.get_feature_names_out()"
      ],
      "metadata": {
        "id": "96u9Cw7UFeaT"
      },
      "execution_count": 8,
      "outputs": []
    },
    {
      "cell_type": "markdown",
      "source": [
        "# **Print the Results:**"
      ],
      "metadata": {
        "id": "1rMRfwLPFh08"
      }
    },
    {
      "cell_type": "code",
      "source": [
        "print(\"Feature names:\", feature_names)\n",
        "print(\"Word count vectors:\\n\", X_array)"
      ],
      "metadata": {
        "colab": {
          "base_uri": "https://localhost:8080/"
        },
        "id": "-VFO-G2TFlu_",
        "outputId": "f9562810-8183-4cd3-8865-d5f2042bd93e"
      },
      "execution_count": 9,
      "outputs": [
        {
          "output_type": "stream",
          "name": "stdout",
          "text": [
            "Feature names: ['4th' 'and' 'at' 'bachelors' 'iam' 'is' 'kasulapavankumar' 'my' 'pu'\n",
            " 'pursing' 'this' 'year']\n",
            "Word count vectors:\n",
            " [[0 0 0 0 1 0 1 0 0 0 0 0]\n",
            " [0 0 1 1 0 0 0 0 1 1 0 0]\n",
            " [1 1 0 0 0 1 0 1 0 0 1 1]\n",
            " [0 0 0 0 0 1 1 0 0 0 1 0]]\n"
          ]
        }
      ]
    }
  ]
}